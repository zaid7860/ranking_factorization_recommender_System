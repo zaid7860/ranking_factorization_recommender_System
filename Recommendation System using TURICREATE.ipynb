{
 "cells": [
  {
   "cell_type": "markdown",
   "metadata": {},
   "source": [
    "# Recommendation System using Turicreate"
   ]
  },
  {
   "cell_type": "code",
   "execution_count": 1,
   "metadata": {},
   "outputs": [],
   "source": [
    "import pandas as pd"
   ]
  },
  {
   "cell_type": "code",
   "execution_count": 21,
   "metadata": {},
   "outputs": [],
   "source": [
    "books = pd.read_csv('books.csv')  # data for books"
   ]
  },
  {
   "cell_type": "code",
   "execution_count": 23,
   "metadata": {},
   "outputs": [
    {
     "data": {
      "text/html": [
       "<div>\n",
       "<style scoped>\n",
       "    .dataframe tbody tr th:only-of-type {\n",
       "        vertical-align: middle;\n",
       "    }\n",
       "\n",
       "    .dataframe tbody tr th {\n",
       "        vertical-align: top;\n",
       "    }\n",
       "\n",
       "    .dataframe thead th {\n",
       "        text-align: right;\n",
       "    }\n",
       "</style>\n",
       "<table border=\"1\" class=\"dataframe\">\n",
       "  <thead>\n",
       "    <tr style=\"text-align: right;\">\n",
       "      <th></th>\n",
       "      <th>book_id</th>\n",
       "      <th>user_id</th>\n",
       "      <th>rating</th>\n",
       "    </tr>\n",
       "  </thead>\n",
       "  <tbody>\n",
       "    <tr>\n",
       "      <th>0</th>\n",
       "      <td>1</td>\n",
       "      <td>314</td>\n",
       "      <td>5</td>\n",
       "    </tr>\n",
       "    <tr>\n",
       "      <th>1</th>\n",
       "      <td>1</td>\n",
       "      <td>439</td>\n",
       "      <td>3</td>\n",
       "    </tr>\n",
       "    <tr>\n",
       "      <th>2</th>\n",
       "      <td>1</td>\n",
       "      <td>588</td>\n",
       "      <td>5</td>\n",
       "    </tr>\n",
       "    <tr>\n",
       "      <th>3</th>\n",
       "      <td>1</td>\n",
       "      <td>1169</td>\n",
       "      <td>4</td>\n",
       "    </tr>\n",
       "    <tr>\n",
       "      <th>4</th>\n",
       "      <td>1</td>\n",
       "      <td>1185</td>\n",
       "      <td>4</td>\n",
       "    </tr>\n",
       "  </tbody>\n",
       "</table>\n",
       "</div>"
      ],
      "text/plain": [
       "   book_id  user_id  rating\n",
       "0        1      314       5\n",
       "1        1      439       3\n",
       "2        1      588       5\n",
       "3        1     1169       4\n",
       "4        1     1185       4"
      ]
     },
     "execution_count": 23,
     "metadata": {},
     "output_type": "execute_result"
    }
   ],
   "source": [
    "rating = pd.read_csv('ratings.csv') # Rating of users with bookid\n",
    "rating.head()"
   ]
  },
  {
   "cell_type": "code",
   "execution_count": 49,
   "metadata": {},
   "outputs": [],
   "source": [
    "df=pd.merge(books, rating, how='inner', on='book_id', left_on=None, right_on=None,\n",
    "         left_index=False, right_index=False, sort=True,\n",
    "         suffixes=('_x', '_y'), copy=True, indicator=False,\n",
    "         validate=None)\n",
    "data= pd.DataFrame()"
   ]
  },
  {
   "cell_type": "code",
   "execution_count": 53,
   "metadata": {},
   "outputs": [],
   "source": [
    "data['book_id']= df['book_id']\n",
    "data['original_title'] = df['original_title']\n",
    "data['user_id'] = df['user_id']\n",
    "data['rating'] = df['rating']\n",
    "\n",
    "\n"
   ]
  },
  {
   "cell_type": "code",
   "execution_count": 63,
   "metadata": {},
   "outputs": [],
   "source": [
    "data.to_csv('ratin.csv')"
   ]
  },
  {
   "cell_type": "code",
   "execution_count": 6,
   "metadata": {},
   "outputs": [
    {
     "name": "stderr",
     "output_type": "stream",
     "text": [
      "/Users/abuzaid/anaconda3/lib/python3.7/site-packages/requests/__init__.py:91: RequestsDependencyWarning: urllib3 (1.25.10) or chardet (3.0.4) doesn't match a supported version!\n",
      "  RequestsDependencyWarning)\n"
     ]
    }
   ],
   "source": [
    "import turicreate as tc  # Importing Turicreate\n"
   ]
  },
  {
   "cell_type": "code",
   "execution_count": 64,
   "metadata": {},
   "outputs": [
    {
     "data": {
      "text/html": [
       "<pre>Finished parsing file /Users/abuzaid/Downloads/Machine Learning/ismail/ratin.csv</pre>"
      ],
      "text/plain": [
       "Finished parsing file /Users/abuzaid/Downloads/Machine Learning/ismail/ratin.csv"
      ]
     },
     "metadata": {},
     "output_type": "display_data"
    },
    {
     "data": {
      "text/html": [
       "<pre>Parsing completed. Parsed 100 lines in 0.123036 secs.</pre>"
      ],
      "text/plain": [
       "Parsing completed. Parsed 100 lines in 0.123036 secs."
      ]
     },
     "metadata": {},
     "output_type": "display_data"
    },
    {
     "name": "stdout",
     "output_type": "stream",
     "text": [
      "------------------------------------------------------\n",
      "Inferred types from first 100 line(s) of file as \n",
      "column_type_hints=[int,int,str,int,int]\n",
      "If parsing fails due to incorrect types, you can correct\n",
      "the inferred type list above and pass it to read_csv in\n",
      "the column_type_hints argument\n",
      "------------------------------------------------------\n"
     ]
    },
    {
     "data": {
      "text/html": [
       "<pre>Finished parsing file /Users/abuzaid/Downloads/Machine Learning/ismail/ratin.csv</pre>"
      ],
      "text/plain": [
       "Finished parsing file /Users/abuzaid/Downloads/Machine Learning/ismail/ratin.csv"
      ]
     },
     "metadata": {},
     "output_type": "display_data"
    },
    {
     "data": {
      "text/html": [
       "<pre>Parsing completed. Parsed 79701 lines in 0.080113 secs.</pre>"
      ],
      "text/plain": [
       "Parsing completed. Parsed 79701 lines in 0.080113 secs."
      ]
     },
     "metadata": {},
     "output_type": "display_data"
    }
   ],
   "source": [
    "actions = tc.SFrame.read_csv('ratin.csv')  #importing CSV and making it as Sframe\n"
   ]
  },
  {
   "cell_type": "markdown",
   "metadata": {},
   "source": [
    "#  Creating model using explicit data"
   ]
  },
  {
   "cell_type": "code",
   "execution_count": 12,
   "metadata": {},
   "outputs": [],
   "source": [
    "training_data, validation_data = tc.recommender.util.random_split_by_user(actions, 'user_id', 'book_id')\n",
    "\n"
   ]
  },
  {
   "cell_type": "code",
   "execution_count": 69,
   "metadata": {},
   "outputs": [
    {
     "data": {
      "text/html": [
       "<div style=\"max-height:1000px;max-width:1500px;overflow:auto;\"><table frame=\"box\" rules=\"cols\">\n",
       "    <tr>\n",
       "        <th style=\"padding-left: 1em; padding-right: 1em; text-align: center\">X1</th>\n",
       "        <th style=\"padding-left: 1em; padding-right: 1em; text-align: center\">book_id</th>\n",
       "        <th style=\"padding-left: 1em; padding-right: 1em; text-align: center\">original_title</th>\n",
       "        <th style=\"padding-left: 1em; padding-right: 1em; text-align: center\">user_id</th>\n",
       "        <th style=\"padding-left: 1em; padding-right: 1em; text-align: center\">rating</th>\n",
       "    </tr>\n",
       "    <tr>\n",
       "        <td style=\"padding-left: 1em; padding-right: 1em; text-align: center; vertical-align: top\">0</td>\n",
       "        <td style=\"padding-left: 1em; padding-right: 1em; text-align: center; vertical-align: top\">1</td>\n",
       "        <td style=\"padding-left: 1em; padding-right: 1em; text-align: center; vertical-align: top\">Harry Potter and the<br>Half-Blood Prince ...</td>\n",
       "        <td style=\"padding-left: 1em; padding-right: 1em; text-align: center; vertical-align: top\">314</td>\n",
       "        <td style=\"padding-left: 1em; padding-right: 1em; text-align: center; vertical-align: top\">5</td>\n",
       "    </tr>\n",
       "    <tr>\n",
       "        <td style=\"padding-left: 1em; padding-right: 1em; text-align: center; vertical-align: top\">1</td>\n",
       "        <td style=\"padding-left: 1em; padding-right: 1em; text-align: center; vertical-align: top\">1</td>\n",
       "        <td style=\"padding-left: 1em; padding-right: 1em; text-align: center; vertical-align: top\">Harry Potter and the<br>Half-Blood Prince ...</td>\n",
       "        <td style=\"padding-left: 1em; padding-right: 1em; text-align: center; vertical-align: top\">439</td>\n",
       "        <td style=\"padding-left: 1em; padding-right: 1em; text-align: center; vertical-align: top\">3</td>\n",
       "    </tr>\n",
       "    <tr>\n",
       "        <td style=\"padding-left: 1em; padding-right: 1em; text-align: center; vertical-align: top\">2</td>\n",
       "        <td style=\"padding-left: 1em; padding-right: 1em; text-align: center; vertical-align: top\">1</td>\n",
       "        <td style=\"padding-left: 1em; padding-right: 1em; text-align: center; vertical-align: top\">Harry Potter and the<br>Half-Blood Prince ...</td>\n",
       "        <td style=\"padding-left: 1em; padding-right: 1em; text-align: center; vertical-align: top\">588</td>\n",
       "        <td style=\"padding-left: 1em; padding-right: 1em; text-align: center; vertical-align: top\">5</td>\n",
       "    </tr>\n",
       "    <tr>\n",
       "        <td style=\"padding-left: 1em; padding-right: 1em; text-align: center; vertical-align: top\">3</td>\n",
       "        <td style=\"padding-left: 1em; padding-right: 1em; text-align: center; vertical-align: top\">1</td>\n",
       "        <td style=\"padding-left: 1em; padding-right: 1em; text-align: center; vertical-align: top\">Harry Potter and the<br>Half-Blood Prince ...</td>\n",
       "        <td style=\"padding-left: 1em; padding-right: 1em; text-align: center; vertical-align: top\">1169</td>\n",
       "        <td style=\"padding-left: 1em; padding-right: 1em; text-align: center; vertical-align: top\">4</td>\n",
       "    </tr>\n",
       "    <tr>\n",
       "        <td style=\"padding-left: 1em; padding-right: 1em; text-align: center; vertical-align: top\">4</td>\n",
       "        <td style=\"padding-left: 1em; padding-right: 1em; text-align: center; vertical-align: top\">1</td>\n",
       "        <td style=\"padding-left: 1em; padding-right: 1em; text-align: center; vertical-align: top\">Harry Potter and the<br>Half-Blood Prince ...</td>\n",
       "        <td style=\"padding-left: 1em; padding-right: 1em; text-align: center; vertical-align: top\">1185</td>\n",
       "        <td style=\"padding-left: 1em; padding-right: 1em; text-align: center; vertical-align: top\">4</td>\n",
       "    </tr>\n",
       "    <tr>\n",
       "        <td style=\"padding-left: 1em; padding-right: 1em; text-align: center; vertical-align: top\">5</td>\n",
       "        <td style=\"padding-left: 1em; padding-right: 1em; text-align: center; vertical-align: top\">1</td>\n",
       "        <td style=\"padding-left: 1em; padding-right: 1em; text-align: center; vertical-align: top\">Harry Potter and the<br>Half-Blood Prince ...</td>\n",
       "        <td style=\"padding-left: 1em; padding-right: 1em; text-align: center; vertical-align: top\">2077</td>\n",
       "        <td style=\"padding-left: 1em; padding-right: 1em; text-align: center; vertical-align: top\">4</td>\n",
       "    </tr>\n",
       "    <tr>\n",
       "        <td style=\"padding-left: 1em; padding-right: 1em; text-align: center; vertical-align: top\">6</td>\n",
       "        <td style=\"padding-left: 1em; padding-right: 1em; text-align: center; vertical-align: top\">1</td>\n",
       "        <td style=\"padding-left: 1em; padding-right: 1em; text-align: center; vertical-align: top\">Harry Potter and the<br>Half-Blood Prince ...</td>\n",
       "        <td style=\"padding-left: 1em; padding-right: 1em; text-align: center; vertical-align: top\">2487</td>\n",
       "        <td style=\"padding-left: 1em; padding-right: 1em; text-align: center; vertical-align: top\">4</td>\n",
       "    </tr>\n",
       "    <tr>\n",
       "        <td style=\"padding-left: 1em; padding-right: 1em; text-align: center; vertical-align: top\">7</td>\n",
       "        <td style=\"padding-left: 1em; padding-right: 1em; text-align: center; vertical-align: top\">1</td>\n",
       "        <td style=\"padding-left: 1em; padding-right: 1em; text-align: center; vertical-align: top\">Harry Potter and the<br>Half-Blood Prince ...</td>\n",
       "        <td style=\"padding-left: 1em; padding-right: 1em; text-align: center; vertical-align: top\">2900</td>\n",
       "        <td style=\"padding-left: 1em; padding-right: 1em; text-align: center; vertical-align: top\">5</td>\n",
       "    </tr>\n",
       "    <tr>\n",
       "        <td style=\"padding-left: 1em; padding-right: 1em; text-align: center; vertical-align: top\">8</td>\n",
       "        <td style=\"padding-left: 1em; padding-right: 1em; text-align: center; vertical-align: top\">1</td>\n",
       "        <td style=\"padding-left: 1em; padding-right: 1em; text-align: center; vertical-align: top\">Harry Potter and the<br>Half-Blood Prince ...</td>\n",
       "        <td style=\"padding-left: 1em; padding-right: 1em; text-align: center; vertical-align: top\">3662</td>\n",
       "        <td style=\"padding-left: 1em; padding-right: 1em; text-align: center; vertical-align: top\">4</td>\n",
       "    </tr>\n",
       "    <tr>\n",
       "        <td style=\"padding-left: 1em; padding-right: 1em; text-align: center; vertical-align: top\">9</td>\n",
       "        <td style=\"padding-left: 1em; padding-right: 1em; text-align: center; vertical-align: top\">1</td>\n",
       "        <td style=\"padding-left: 1em; padding-right: 1em; text-align: center; vertical-align: top\">Harry Potter and the<br>Half-Blood Prince ...</td>\n",
       "        <td style=\"padding-left: 1em; padding-right: 1em; text-align: center; vertical-align: top\">3922</td>\n",
       "        <td style=\"padding-left: 1em; padding-right: 1em; text-align: center; vertical-align: top\">5</td>\n",
       "    </tr>\n",
       "</table>\n",
       "[79701 rows x 5 columns]<br/>Note: Only the head of the SFrame is printed.<br/>You can use print_rows(num_rows=m, num_columns=n) to print more rows and columns.\n",
       "</div>"
      ],
      "text/plain": [
       "Columns:\n",
       "\tX1\tint\n",
       "\tbook_id\tint\n",
       "\toriginal_title\tstr\n",
       "\tuser_id\tint\n",
       "\trating\tint\n",
       "\n",
       "Rows: 79701\n",
       "\n",
       "Data:\n",
       "+----+---------+-------------------------------+---------+--------+\n",
       "| X1 | book_id |         original_title        | user_id | rating |\n",
       "+----+---------+-------------------------------+---------+--------+\n",
       "| 0  |    1    | Harry Potter and the Half-... |   314   |   5    |\n",
       "| 1  |    1    | Harry Potter and the Half-... |   439   |   3    |\n",
       "| 2  |    1    | Harry Potter and the Half-... |   588   |   5    |\n",
       "| 3  |    1    | Harry Potter and the Half-... |   1169  |   4    |\n",
       "| 4  |    1    | Harry Potter and the Half-... |   1185  |   4    |\n",
       "| 5  |    1    | Harry Potter and the Half-... |   2077  |   4    |\n",
       "| 6  |    1    | Harry Potter and the Half-... |   2487  |   4    |\n",
       "| 7  |    1    | Harry Potter and the Half-... |   2900  |   5    |\n",
       "| 8  |    1    | Harry Potter and the Half-... |   3662  |   4    |\n",
       "| 9  |    1    | Harry Potter and the Half-... |   3922  |   5    |\n",
       "+----+---------+-------------------------------+---------+--------+\n",
       "[79701 rows x 5 columns]\n",
       "Note: Only the head of the SFrame is printed.\n",
       "You can use print_rows(num_rows=m, num_columns=n) to print more rows and columns."
      ]
     },
     "execution_count": 69,
     "metadata": {},
     "output_type": "execute_result"
    }
   ],
   "source": [
    "actions"
   ]
  },
  {
   "cell_type": "code",
   "execution_count": null,
   "metadata": {},
   "outputs": [],
   "source": [
    "\n"
   ]
  },
  {
   "cell_type": "markdown",
   "metadata": {},
   "source": [
    "# Collaborative Filtering "
   ]
  },
  {
   "cell_type": "code",
   "execution_count": 65,
   "metadata": {},
   "outputs": [
    {
     "data": {
      "text/html": [
       "<pre>Preparing data set.</pre>"
      ],
      "text/plain": [
       "Preparing data set."
      ]
     },
     "metadata": {},
     "output_type": "display_data"
    },
    {
     "data": {
      "text/html": [
       "<pre>    Data has 79701 observations with 28906 users and 794 items.</pre>"
      ],
      "text/plain": [
       "    Data has 79701 observations with 28906 users and 794 items."
      ]
     },
     "metadata": {},
     "output_type": "display_data"
    },
    {
     "data": {
      "text/html": [
       "<pre>    Data prepared in: 0.238803s</pre>"
      ],
      "text/plain": [
       "    Data prepared in: 0.238803s"
      ]
     },
     "metadata": {},
     "output_type": "display_data"
    },
    {
     "data": {
      "text/html": [
       "<pre>Training ranking_factorization_recommender for recommendations.</pre>"
      ],
      "text/plain": [
       "Training ranking_factorization_recommender for recommendations."
      ]
     },
     "metadata": {},
     "output_type": "display_data"
    },
    {
     "data": {
      "text/html": [
       "<pre>+--------------------------------+--------------------------------------------------+----------+</pre>"
      ],
      "text/plain": [
       "+--------------------------------+--------------------------------------------------+----------+"
      ]
     },
     "metadata": {},
     "output_type": "display_data"
    },
    {
     "data": {
      "text/html": [
       "<pre>| Parameter                      | Description                                      | Value    |</pre>"
      ],
      "text/plain": [
       "| Parameter                      | Description                                      | Value    |"
      ]
     },
     "metadata": {},
     "output_type": "display_data"
    },
    {
     "data": {
      "text/html": [
       "<pre>+--------------------------------+--------------------------------------------------+----------+</pre>"
      ],
      "text/plain": [
       "+--------------------------------+--------------------------------------------------+----------+"
      ]
     },
     "metadata": {},
     "output_type": "display_data"
    },
    {
     "data": {
      "text/html": [
       "<pre>| num_factors                    | Factor Dimension                                 | 32       |</pre>"
      ],
      "text/plain": [
       "| num_factors                    | Factor Dimension                                 | 32       |"
      ]
     },
     "metadata": {},
     "output_type": "display_data"
    },
    {
     "data": {
      "text/html": [
       "<pre>| regularization                 | L2 Regularization on Factors                     | 1e-09    |</pre>"
      ],
      "text/plain": [
       "| regularization                 | L2 Regularization on Factors                     | 1e-09    |"
      ]
     },
     "metadata": {},
     "output_type": "display_data"
    },
    {
     "data": {
      "text/html": [
       "<pre>| solver                         | Solver used for training                         | adagrad  |</pre>"
      ],
      "text/plain": [
       "| solver                         | Solver used for training                         | adagrad  |"
      ]
     },
     "metadata": {},
     "output_type": "display_data"
    },
    {
     "data": {
      "text/html": [
       "<pre>| linear_regularization          | L2 Regularization on Linear Coefficients         | 1e-09    |</pre>"
      ],
      "text/plain": [
       "| linear_regularization          | L2 Regularization on Linear Coefficients         | 1e-09    |"
      ]
     },
     "metadata": {},
     "output_type": "display_data"
    },
    {
     "data": {
      "text/html": [
       "<pre>| ranking_regularization         | Rank-based Regularization Weight                 | 0.25     |</pre>"
      ],
      "text/plain": [
       "| ranking_regularization         | Rank-based Regularization Weight                 | 0.25     |"
      ]
     },
     "metadata": {},
     "output_type": "display_data"
    },
    {
     "data": {
      "text/html": [
       "<pre>| max_iterations                 | Maximum Number of Iterations                     | 25       |</pre>"
      ],
      "text/plain": [
       "| max_iterations                 | Maximum Number of Iterations                     | 25       |"
      ]
     },
     "metadata": {},
     "output_type": "display_data"
    },
    {
     "data": {
      "text/html": [
       "<pre>+--------------------------------+--------------------------------------------------+----------+</pre>"
      ],
      "text/plain": [
       "+--------------------------------+--------------------------------------------------+----------+"
      ]
     },
     "metadata": {},
     "output_type": "display_data"
    },
    {
     "data": {
      "text/html": [
       "<pre>  Optimizing model using SGD; tuning step size.</pre>"
      ],
      "text/plain": [
       "  Optimizing model using SGD; tuning step size."
      ]
     },
     "metadata": {},
     "output_type": "display_data"
    },
    {
     "data": {
      "text/html": [
       "<pre>  Using 10000 / 79701 points for tuning the step size.</pre>"
      ],
      "text/plain": [
       "  Using 10000 / 79701 points for tuning the step size."
      ]
     },
     "metadata": {},
     "output_type": "display_data"
    },
    {
     "data": {
      "text/html": [
       "<pre>+---------+-------------------+------------------------------------------+</pre>"
      ],
      "text/plain": [
       "+---------+-------------------+------------------------------------------+"
      ]
     },
     "metadata": {},
     "output_type": "display_data"
    },
    {
     "data": {
      "text/html": [
       "<pre>| Attempt | Initial Step Size | Estimated Objective Value                |</pre>"
      ],
      "text/plain": [
       "| Attempt | Initial Step Size | Estimated Objective Value                |"
      ]
     },
     "metadata": {},
     "output_type": "display_data"
    },
    {
     "data": {
      "text/html": [
       "<pre>+---------+-------------------+------------------------------------------+</pre>"
      ],
      "text/plain": [
       "+---------+-------------------+------------------------------------------+"
      ]
     },
     "metadata": {},
     "output_type": "display_data"
    },
    {
     "data": {
      "text/html": [
       "<pre>| 0       | 12.5              | Not Viable                               |</pre>"
      ],
      "text/plain": [
       "| 0       | 12.5              | Not Viable                               |"
      ]
     },
     "metadata": {},
     "output_type": "display_data"
    },
    {
     "data": {
      "text/html": [
       "<pre>| 1       | 3.125             | Not Viable                               |</pre>"
      ],
      "text/plain": [
       "| 1       | 3.125             | Not Viable                               |"
      ]
     },
     "metadata": {},
     "output_type": "display_data"
    },
    {
     "data": {
      "text/html": [
       "<pre>| 2       | 0.78125           | Not Viable                               |</pre>"
      ],
      "text/plain": [
       "| 2       | 0.78125           | Not Viable                               |"
      ]
     },
     "metadata": {},
     "output_type": "display_data"
    },
    {
     "data": {
      "text/html": [
       "<pre>| 3       | 0.195312          | Not Viable                               |</pre>"
      ],
      "text/plain": [
       "| 3       | 0.195312          | Not Viable                               |"
      ]
     },
     "metadata": {},
     "output_type": "display_data"
    },
    {
     "data": {
      "text/html": [
       "<pre>| 4       | 0.0488281         | Not Viable                               |</pre>"
      ],
      "text/plain": [
       "| 4       | 0.0488281         | Not Viable                               |"
      ]
     },
     "metadata": {},
     "output_type": "display_data"
    },
    {
     "data": {
      "text/html": [
       "<pre>| 5       | 0.012207          | 1.66788                                  |</pre>"
      ],
      "text/plain": [
       "| 5       | 0.012207          | 1.66788                                  |"
      ]
     },
     "metadata": {},
     "output_type": "display_data"
    },
    {
     "data": {
      "text/html": [
       "<pre>| 6       | 0.00610352        | 1.77915                                  |</pre>"
      ],
      "text/plain": [
       "| 6       | 0.00610352        | 1.77915                                  |"
      ]
     },
     "metadata": {},
     "output_type": "display_data"
    },
    {
     "data": {
      "text/html": [
       "<pre>| 7       | 0.00305176        | 1.84223                                  |</pre>"
      ],
      "text/plain": [
       "| 7       | 0.00305176        | 1.84223                                  |"
      ]
     },
     "metadata": {},
     "output_type": "display_data"
    },
    {
     "data": {
      "text/html": [
       "<pre>| 8       | 0.00152588        | 1.87009                                  |</pre>"
      ],
      "text/plain": [
       "| 8       | 0.00152588        | 1.87009                                  |"
      ]
     },
     "metadata": {},
     "output_type": "display_data"
    },
    {
     "data": {
      "text/html": [
       "<pre>+---------+-------------------+------------------------------------------+</pre>"
      ],
      "text/plain": [
       "+---------+-------------------+------------------------------------------+"
      ]
     },
     "metadata": {},
     "output_type": "display_data"
    },
    {
     "data": {
      "text/html": [
       "<pre>| Final   | 0.012207          | 1.66788                                  |</pre>"
      ],
      "text/plain": [
       "| Final   | 0.012207          | 1.66788                                  |"
      ]
     },
     "metadata": {},
     "output_type": "display_data"
    },
    {
     "data": {
      "text/html": [
       "<pre>+---------+-------------------+------------------------------------------+</pre>"
      ],
      "text/plain": [
       "+---------+-------------------+------------------------------------------+"
      ]
     },
     "metadata": {},
     "output_type": "display_data"
    },
    {
     "data": {
      "text/html": [
       "<pre>Starting Optimization.</pre>"
      ],
      "text/plain": [
       "Starting Optimization."
      ]
     },
     "metadata": {},
     "output_type": "display_data"
    },
    {
     "data": {
      "text/html": [
       "<pre>+---------+--------------+-------------------+-----------------------+-------------+</pre>"
      ],
      "text/plain": [
       "+---------+--------------+-------------------+-----------------------+-------------+"
      ]
     },
     "metadata": {},
     "output_type": "display_data"
    },
    {
     "data": {
      "text/html": [
       "<pre>| Iter.   | Elapsed Time | Approx. Objective | Approx. Training RMSE | Step Size   |</pre>"
      ],
      "text/plain": [
       "| Iter.   | Elapsed Time | Approx. Objective | Approx. Training RMSE | Step Size   |"
      ]
     },
     "metadata": {},
     "output_type": "display_data"
    },
    {
     "data": {
      "text/html": [
       "<pre>+---------+--------------+-------------------+-----------------------+-------------+</pre>"
      ],
      "text/plain": [
       "+---------+--------------+-------------------+-----------------------+-------------+"
      ]
     },
     "metadata": {},
     "output_type": "display_data"
    },
    {
     "data": {
      "text/html": [
       "<pre>| Initial | 274us        | 1.90534           | 0.985778              |             |</pre>"
      ],
      "text/plain": [
       "| Initial | 274us        | 1.90534           | 0.985778              |             |"
      ]
     },
     "metadata": {},
     "output_type": "display_data"
    },
    {
     "data": {
      "text/html": [
       "<pre>+---------+--------------+-------------------+-----------------------+-------------+</pre>"
      ],
      "text/plain": [
       "+---------+--------------+-------------------+-----------------------+-------------+"
      ]
     },
     "metadata": {},
     "output_type": "display_data"
    },
    {
     "data": {
      "text/html": [
       "<pre>| 1       | 377.112ms    | DIVERGED          | DIVERGED              | 0.012207    |</pre>"
      ],
      "text/plain": [
       "| 1       | 377.112ms    | DIVERGED          | DIVERGED              | 0.012207    |"
      ]
     },
     "metadata": {},
     "output_type": "display_data"
    },
    {
     "data": {
      "text/html": [
       "<pre>| RESET   | 670.845ms    | 1.90537           | 0.985786              |             |</pre>"
      ],
      "text/plain": [
       "| RESET   | 670.845ms    | 1.90537           | 0.985786              |             |"
      ]
     },
     "metadata": {},
     "output_type": "display_data"
    },
    {
     "data": {
      "text/html": [
       "<pre>| 1       | 937.024ms    | 2.14052           | 1.02347               | 0.00610352  |</pre>"
      ],
      "text/plain": [
       "| 1       | 937.024ms    | 2.14052           | 1.02347               | 0.00610352  |"
      ]
     },
     "metadata": {},
     "output_type": "display_data"
    },
    {
     "data": {
      "text/html": [
       "<pre>| 2       | 1.12s        | 1.78493           | 0.972904              | 0.00610352  |</pre>"
      ],
      "text/plain": [
       "| 2       | 1.12s        | 1.78493           | 0.972904              | 0.00610352  |"
      ]
     },
     "metadata": {},
     "output_type": "display_data"
    },
    {
     "data": {
      "text/html": [
       "<pre>| 3       | 1.33s        | 1.75292           | 0.972384              | 0.00610352  |</pre>"
      ],
      "text/plain": [
       "| 3       | 1.33s        | 1.75292           | 0.972384              | 0.00610352  |"
      ]
     },
     "metadata": {},
     "output_type": "display_data"
    },
    {
     "data": {
      "text/html": [
       "<pre>| 4       | 1.59s        | 1.76607           | 0.968209              | 0.00610352  |</pre>"
      ],
      "text/plain": [
       "| 4       | 1.59s        | 1.76607           | 0.968209              | 0.00610352  |"
      ]
     },
     "metadata": {},
     "output_type": "display_data"
    },
    {
     "data": {
      "text/html": [
       "<pre>| 5       | 1.85s        | 1.73356           | 0.973539              | 0.00610352  |</pre>"
      ],
      "text/plain": [
       "| 5       | 1.85s        | 1.73356           | 0.973539              | 0.00610352  |"
      ]
     },
     "metadata": {},
     "output_type": "display_data"
    },
    {
     "data": {
      "text/html": [
       "<pre>| 9       | 2.66s        | 1.73696           | 0.964125              | 0.00610352  |</pre>"
      ],
      "text/plain": [
       "| 9       | 2.66s        | 1.73696           | 0.964125              | 0.00610352  |"
      ]
     },
     "metadata": {},
     "output_type": "display_data"
    },
    {
     "data": {
      "text/html": [
       "<pre>| 24      | 5.61s        | 1.61007           | 0.938864              | 0.00610352  |</pre>"
      ],
      "text/plain": [
       "| 24      | 5.61s        | 1.61007           | 0.938864              | 0.00610352  |"
      ]
     },
     "metadata": {},
     "output_type": "display_data"
    },
    {
     "data": {
      "text/html": [
       "<pre>| 25      | 5.77s        | 1.60423           | 0.936044              | 0.00610352  |</pre>"
      ],
      "text/plain": [
       "| 25      | 5.77s        | 1.60423           | 0.936044              | 0.00610352  |"
      ]
     },
     "metadata": {},
     "output_type": "display_data"
    },
    {
     "data": {
      "text/html": [
       "<pre>+---------+--------------+-------------------+-----------------------+-------------+</pre>"
      ],
      "text/plain": [
       "+---------+--------------+-------------------+-----------------------+-------------+"
      ]
     },
     "metadata": {},
     "output_type": "display_data"
    },
    {
     "data": {
      "text/html": [
       "<pre>Optimization Complete: Maximum number of passes through the data reached.</pre>"
      ],
      "text/plain": [
       "Optimization Complete: Maximum number of passes through the data reached."
      ]
     },
     "metadata": {},
     "output_type": "display_data"
    },
    {
     "data": {
      "text/html": [
       "<pre>Computing final objective value and training RMSE.</pre>"
      ],
      "text/plain": [
       "Computing final objective value and training RMSE."
      ]
     },
     "metadata": {},
     "output_type": "display_data"
    },
    {
     "data": {
      "text/html": [
       "<pre>       Final objective value: 1.6012</pre>"
      ],
      "text/plain": [
       "       Final objective value: 1.6012"
      ]
     },
     "metadata": {},
     "output_type": "display_data"
    },
    {
     "data": {
      "text/html": [
       "<pre>       Final training RMSE: 0.933187</pre>"
      ],
      "text/plain": [
       "       Final training RMSE: 0.933187"
      ]
     },
     "metadata": {},
     "output_type": "display_data"
    }
   ],
   "source": [
    "model2 = tc.ranking_factorization_recommender.create(actions,item_id='original_title',user_id='user_id',target='rating',)\n",
    "\n"
   ]
  },
  {
   "cell_type": "code",
   "execution_count": 66,
   "metadata": {},
   "outputs": [
    {
     "data": {
      "text/html": [
       "<pre>recommendations finished on 1000/28906 queries. users per second: 17295.4</pre>"
      ],
      "text/plain": [
       "recommendations finished on 1000/28906 queries. users per second: 17295.4"
      ]
     },
     "metadata": {},
     "output_type": "display_data"
    },
    {
     "data": {
      "text/html": [
       "<pre>recommendations finished on 2000/28906 queries. users per second: 18015.7</pre>"
      ],
      "text/plain": [
       "recommendations finished on 2000/28906 queries. users per second: 18015.7"
      ]
     },
     "metadata": {},
     "output_type": "display_data"
    },
    {
     "data": {
      "text/html": [
       "<pre>recommendations finished on 3000/28906 queries. users per second: 18186.3</pre>"
      ],
      "text/plain": [
       "recommendations finished on 3000/28906 queries. users per second: 18186.3"
      ]
     },
     "metadata": {},
     "output_type": "display_data"
    },
    {
     "data": {
      "text/html": [
       "<pre>recommendations finished on 4000/28906 queries. users per second: 18883.5</pre>"
      ],
      "text/plain": [
       "recommendations finished on 4000/28906 queries. users per second: 18883.5"
      ]
     },
     "metadata": {},
     "output_type": "display_data"
    },
    {
     "data": {
      "text/html": [
       "<pre>recommendations finished on 5000/28906 queries. users per second: 18514.1</pre>"
      ],
      "text/plain": [
       "recommendations finished on 5000/28906 queries. users per second: 18514.1"
      ]
     },
     "metadata": {},
     "output_type": "display_data"
    },
    {
     "data": {
      "text/html": [
       "<pre>recommendations finished on 6000/28906 queries. users per second: 18854.1</pre>"
      ],
      "text/plain": [
       "recommendations finished on 6000/28906 queries. users per second: 18854.1"
      ]
     },
     "metadata": {},
     "output_type": "display_data"
    },
    {
     "data": {
      "text/html": [
       "<pre>recommendations finished on 7000/28906 queries. users per second: 18976.4</pre>"
      ],
      "text/plain": [
       "recommendations finished on 7000/28906 queries. users per second: 18976.4"
      ]
     },
     "metadata": {},
     "output_type": "display_data"
    },
    {
     "data": {
      "text/html": [
       "<pre>recommendations finished on 8000/28906 queries. users per second: 19174.4</pre>"
      ],
      "text/plain": [
       "recommendations finished on 8000/28906 queries. users per second: 19174.4"
      ]
     },
     "metadata": {},
     "output_type": "display_data"
    },
    {
     "data": {
      "text/html": [
       "<pre>recommendations finished on 9000/28906 queries. users per second: 19378.3</pre>"
      ],
      "text/plain": [
       "recommendations finished on 9000/28906 queries. users per second: 19378.3"
      ]
     },
     "metadata": {},
     "output_type": "display_data"
    },
    {
     "data": {
      "text/html": [
       "<pre>recommendations finished on 10000/28906 queries. users per second: 19518.1</pre>"
      ],
      "text/plain": [
       "recommendations finished on 10000/28906 queries. users per second: 19518.1"
      ]
     },
     "metadata": {},
     "output_type": "display_data"
    },
    {
     "data": {
      "text/html": [
       "<pre>recommendations finished on 11000/28906 queries. users per second: 19632.4</pre>"
      ],
      "text/plain": [
       "recommendations finished on 11000/28906 queries. users per second: 19632.4"
      ]
     },
     "metadata": {},
     "output_type": "display_data"
    },
    {
     "data": {
      "text/html": [
       "<pre>recommendations finished on 12000/28906 queries. users per second: 19760.3</pre>"
      ],
      "text/plain": [
       "recommendations finished on 12000/28906 queries. users per second: 19760.3"
      ]
     },
     "metadata": {},
     "output_type": "display_data"
    },
    {
     "data": {
      "text/html": [
       "<pre>recommendations finished on 13000/28906 queries. users per second: 19834.2</pre>"
      ],
      "text/plain": [
       "recommendations finished on 13000/28906 queries. users per second: 19834.2"
      ]
     },
     "metadata": {},
     "output_type": "display_data"
    },
    {
     "data": {
      "text/html": [
       "<pre>recommendations finished on 14000/28906 queries. users per second: 19851.3</pre>"
      ],
      "text/plain": [
       "recommendations finished on 14000/28906 queries. users per second: 19851.3"
      ]
     },
     "metadata": {},
     "output_type": "display_data"
    },
    {
     "data": {
      "text/html": [
       "<pre>recommendations finished on 15000/28906 queries. users per second: 19903.2</pre>"
      ],
      "text/plain": [
       "recommendations finished on 15000/28906 queries. users per second: 19903.2"
      ]
     },
     "metadata": {},
     "output_type": "display_data"
    },
    {
     "data": {
      "text/html": [
       "<pre>recommendations finished on 16000/28906 queries. users per second: 19956.7</pre>"
      ],
      "text/plain": [
       "recommendations finished on 16000/28906 queries. users per second: 19956.7"
      ]
     },
     "metadata": {},
     "output_type": "display_data"
    },
    {
     "data": {
      "text/html": [
       "<pre>recommendations finished on 17000/28906 queries. users per second: 19974.9</pre>"
      ],
      "text/plain": [
       "recommendations finished on 17000/28906 queries. users per second: 19974.9"
      ]
     },
     "metadata": {},
     "output_type": "display_data"
    },
    {
     "data": {
      "text/html": [
       "<pre>recommendations finished on 18000/28906 queries. users per second: 19563.1</pre>"
      ],
      "text/plain": [
       "recommendations finished on 18000/28906 queries. users per second: 19563.1"
      ]
     },
     "metadata": {},
     "output_type": "display_data"
    },
    {
     "data": {
      "text/html": [
       "<pre>recommendations finished on 19000/28906 queries. users per second: 19152.1</pre>"
      ],
      "text/plain": [
       "recommendations finished on 19000/28906 queries. users per second: 19152.1"
      ]
     },
     "metadata": {},
     "output_type": "display_data"
    },
    {
     "data": {
      "text/html": [
       "<pre>recommendations finished on 20000/28906 queries. users per second: 18708.5</pre>"
      ],
      "text/plain": [
       "recommendations finished on 20000/28906 queries. users per second: 18708.5"
      ]
     },
     "metadata": {},
     "output_type": "display_data"
    },
    {
     "data": {
      "text/html": [
       "<pre>recommendations finished on 21000/28906 queries. users per second: 18340.8</pre>"
      ],
      "text/plain": [
       "recommendations finished on 21000/28906 queries. users per second: 18340.8"
      ]
     },
     "metadata": {},
     "output_type": "display_data"
    },
    {
     "data": {
      "text/html": [
       "<pre>recommendations finished on 22000/28906 queries. users per second: 18100.5</pre>"
      ],
      "text/plain": [
       "recommendations finished on 22000/28906 queries. users per second: 18100.5"
      ]
     },
     "metadata": {},
     "output_type": "display_data"
    },
    {
     "data": {
      "text/html": [
       "<pre>recommendations finished on 23000/28906 queries. users per second: 18220.1</pre>"
      ],
      "text/plain": [
       "recommendations finished on 23000/28906 queries. users per second: 18220.1"
      ]
     },
     "metadata": {},
     "output_type": "display_data"
    },
    {
     "data": {
      "text/html": [
       "<pre>recommendations finished on 24000/28906 queries. users per second: 18196.3</pre>"
      ],
      "text/plain": [
       "recommendations finished on 24000/28906 queries. users per second: 18196.3"
      ]
     },
     "metadata": {},
     "output_type": "display_data"
    },
    {
     "data": {
      "text/html": [
       "<pre>recommendations finished on 25000/28906 queries. users per second: 18229</pre>"
      ],
      "text/plain": [
       "recommendations finished on 25000/28906 queries. users per second: 18229"
      ]
     },
     "metadata": {},
     "output_type": "display_data"
    },
    {
     "data": {
      "text/html": [
       "<pre>recommendations finished on 26000/28906 queries. users per second: 18259.2</pre>"
      ],
      "text/plain": [
       "recommendations finished on 26000/28906 queries. users per second: 18259.2"
      ]
     },
     "metadata": {},
     "output_type": "display_data"
    },
    {
     "data": {
      "text/html": [
       "<pre>recommendations finished on 27000/28906 queries. users per second: 18342</pre>"
      ],
      "text/plain": [
       "recommendations finished on 27000/28906 queries. users per second: 18342"
      ]
     },
     "metadata": {},
     "output_type": "display_data"
    },
    {
     "data": {
      "text/html": [
       "<pre>recommendations finished on 28000/28906 queries. users per second: 18395.5</pre>"
      ],
      "text/plain": [
       "recommendations finished on 28000/28906 queries. users per second: 18395.5"
      ]
     },
     "metadata": {},
     "output_type": "display_data"
    }
   ],
   "source": [
    "prd=model2.recommend(k=3)"
   ]
  },
  {
   "cell_type": "code",
   "execution_count": 67,
   "metadata": {},
   "outputs": [],
   "source": [
    "predictions=prd.to_dataframe()"
   ]
  },
  {
   "cell_type": "code",
   "execution_count": 68,
   "metadata": {},
   "outputs": [
    {
     "data": {
      "text/html": [
       "<div>\n",
       "<style scoped>\n",
       "    .dataframe tbody tr th:only-of-type {\n",
       "        vertical-align: middle;\n",
       "    }\n",
       "\n",
       "    .dataframe tbody tr th {\n",
       "        vertical-align: top;\n",
       "    }\n",
       "\n",
       "    .dataframe thead th {\n",
       "        text-align: right;\n",
       "    }\n",
       "</style>\n",
       "<table border=\"1\" class=\"dataframe\">\n",
       "  <thead>\n",
       "    <tr style=\"text-align: right;\">\n",
       "      <th></th>\n",
       "      <th>user_id</th>\n",
       "      <th>original_title</th>\n",
       "      <th>score</th>\n",
       "      <th>rank</th>\n",
       "    </tr>\n",
       "  </thead>\n",
       "  <tbody>\n",
       "    <tr>\n",
       "      <th>0</th>\n",
       "      <td>314</td>\n",
       "      <td>Still Life with Woodpecker</td>\n",
       "      <td>3.652937</td>\n",
       "      <td>1</td>\n",
       "    </tr>\n",
       "    <tr>\n",
       "      <th>1</th>\n",
       "      <td>314</td>\n",
       "      <td>Villa Incognito</td>\n",
       "      <td>3.607736</td>\n",
       "      <td>2</td>\n",
       "    </tr>\n",
       "    <tr>\n",
       "      <th>2</th>\n",
       "      <td>314</td>\n",
       "      <td>El amor en los tiempos del cólera</td>\n",
       "      <td>3.589461</td>\n",
       "      <td>3</td>\n",
       "    </tr>\n",
       "    <tr>\n",
       "      <th>3</th>\n",
       "      <td>439</td>\n",
       "      <td>Still Life with Woodpecker</td>\n",
       "      <td>3.728509</td>\n",
       "      <td>1</td>\n",
       "    </tr>\n",
       "    <tr>\n",
       "      <th>4</th>\n",
       "      <td>439</td>\n",
       "      <td>Villa Incognito</td>\n",
       "      <td>3.660075</td>\n",
       "      <td>2</td>\n",
       "    </tr>\n",
       "    <tr>\n",
       "      <th>5</th>\n",
       "      <td>439</td>\n",
       "      <td>El amor en los tiempos del cólera</td>\n",
       "      <td>3.630743</td>\n",
       "      <td>3</td>\n",
       "    </tr>\n",
       "    <tr>\n",
       "      <th>6</th>\n",
       "      <td>588</td>\n",
       "      <td>Still Life with Woodpecker</td>\n",
       "      <td>3.704723</td>\n",
       "      <td>1</td>\n",
       "    </tr>\n",
       "    <tr>\n",
       "      <th>7</th>\n",
       "      <td>588</td>\n",
       "      <td>Villa Incognito</td>\n",
       "      <td>3.647833</td>\n",
       "      <td>2</td>\n",
       "    </tr>\n",
       "    <tr>\n",
       "      <th>8</th>\n",
       "      <td>588</td>\n",
       "      <td>El amor en los tiempos del cólera</td>\n",
       "      <td>3.624804</td>\n",
       "      <td>3</td>\n",
       "    </tr>\n",
       "    <tr>\n",
       "      <th>9</th>\n",
       "      <td>1169</td>\n",
       "      <td>Still Life with Woodpecker</td>\n",
       "      <td>3.740307</td>\n",
       "      <td>1</td>\n",
       "    </tr>\n",
       "    <tr>\n",
       "      <th>10</th>\n",
       "      <td>1169</td>\n",
       "      <td>Villa Incognito</td>\n",
       "      <td>3.684728</td>\n",
       "      <td>2</td>\n",
       "    </tr>\n",
       "    <tr>\n",
       "      <th>11</th>\n",
       "      <td>1169</td>\n",
       "      <td>El amor en los tiempos del cólera</td>\n",
       "      <td>3.658211</td>\n",
       "      <td>3</td>\n",
       "    </tr>\n",
       "    <tr>\n",
       "      <th>12</th>\n",
       "      <td>1185</td>\n",
       "      <td>Still Life with Woodpecker</td>\n",
       "      <td>3.663822</td>\n",
       "      <td>1</td>\n",
       "    </tr>\n",
       "    <tr>\n",
       "      <th>13</th>\n",
       "      <td>1185</td>\n",
       "      <td>Villa Incognito</td>\n",
       "      <td>3.609577</td>\n",
       "      <td>2</td>\n",
       "    </tr>\n",
       "    <tr>\n",
       "      <th>14</th>\n",
       "      <td>1185</td>\n",
       "      <td>El amor en los tiempos del cólera</td>\n",
       "      <td>3.583685</td>\n",
       "      <td>3</td>\n",
       "    </tr>\n",
       "    <tr>\n",
       "      <th>15</th>\n",
       "      <td>2077</td>\n",
       "      <td>Still Life with Woodpecker</td>\n",
       "      <td>3.711259</td>\n",
       "      <td>1</td>\n",
       "    </tr>\n",
       "    <tr>\n",
       "      <th>16</th>\n",
       "      <td>2077</td>\n",
       "      <td>Villa Incognito</td>\n",
       "      <td>3.633775</td>\n",
       "      <td>2</td>\n",
       "    </tr>\n",
       "    <tr>\n",
       "      <th>17</th>\n",
       "      <td>2077</td>\n",
       "      <td>El amor en los tiempos del cólera</td>\n",
       "      <td>3.598511</td>\n",
       "      <td>3</td>\n",
       "    </tr>\n",
       "    <tr>\n",
       "      <th>18</th>\n",
       "      <td>2487</td>\n",
       "      <td>Still Life with Woodpecker</td>\n",
       "      <td>3.761272</td>\n",
       "      <td>1</td>\n",
       "    </tr>\n",
       "    <tr>\n",
       "      <th>19</th>\n",
       "      <td>2487</td>\n",
       "      <td>Villa Incognito</td>\n",
       "      <td>3.686743</td>\n",
       "      <td>2</td>\n",
       "    </tr>\n",
       "    <tr>\n",
       "      <th>20</th>\n",
       "      <td>2487</td>\n",
       "      <td>El amor en los tiempos del cólera</td>\n",
       "      <td>3.651996</td>\n",
       "      <td>3</td>\n",
       "    </tr>\n",
       "    <tr>\n",
       "      <th>21</th>\n",
       "      <td>2900</td>\n",
       "      <td>Amsterdam</td>\n",
       "      <td>3.641194</td>\n",
       "      <td>1</td>\n",
       "    </tr>\n",
       "    <tr>\n",
       "      <th>22</th>\n",
       "      <td>2900</td>\n",
       "      <td>Hard Times: For These Times</td>\n",
       "      <td>3.635276</td>\n",
       "      <td>2</td>\n",
       "    </tr>\n",
       "    <tr>\n",
       "      <th>23</th>\n",
       "      <td>2900</td>\n",
       "      <td>Tears of the Giraffe</td>\n",
       "      <td>3.635227</td>\n",
       "      <td>3</td>\n",
       "    </tr>\n",
       "    <tr>\n",
       "      <th>24</th>\n",
       "      <td>3662</td>\n",
       "      <td></td>\n",
       "      <td>3.657283</td>\n",
       "      <td>1</td>\n",
       "    </tr>\n",
       "    <tr>\n",
       "      <th>25</th>\n",
       "      <td>3662</td>\n",
       "      <td>The Beautiful and Damned</td>\n",
       "      <td>3.631971</td>\n",
       "      <td>2</td>\n",
       "    </tr>\n",
       "    <tr>\n",
       "      <th>26</th>\n",
       "      <td>3662</td>\n",
       "      <td>Amsterdam</td>\n",
       "      <td>3.626810</td>\n",
       "      <td>3</td>\n",
       "    </tr>\n",
       "    <tr>\n",
       "      <th>27</th>\n",
       "      <td>3922</td>\n",
       "      <td>Hard Times: For These Times</td>\n",
       "      <td>3.651889</td>\n",
       "      <td>1</td>\n",
       "    </tr>\n",
       "    <tr>\n",
       "      <th>28</th>\n",
       "      <td>3922</td>\n",
       "      <td>Amsterdam</td>\n",
       "      <td>3.650391</td>\n",
       "      <td>2</td>\n",
       "    </tr>\n",
       "    <tr>\n",
       "      <th>29</th>\n",
       "      <td>3922</td>\n",
       "      <td>Consider the Lobster</td>\n",
       "      <td>3.645164</td>\n",
       "      <td>3</td>\n",
       "    </tr>\n",
       "    <tr>\n",
       "      <th>...</th>\n",
       "      <td>...</td>\n",
       "      <td>...</td>\n",
       "      <td>...</td>\n",
       "      <td>...</td>\n",
       "    </tr>\n",
       "    <tr>\n",
       "      <th>86688</th>\n",
       "      <td>40887</td>\n",
       "      <td>Still Life with Woodpecker</td>\n",
       "      <td>3.709374</td>\n",
       "      <td>1</td>\n",
       "    </tr>\n",
       "    <tr>\n",
       "      <th>86689</th>\n",
       "      <td>40887</td>\n",
       "      <td>The Beautiful and Damned</td>\n",
       "      <td>3.696439</td>\n",
       "      <td>2</td>\n",
       "    </tr>\n",
       "    <tr>\n",
       "      <th>86690</th>\n",
       "      <td>40887</td>\n",
       "      <td></td>\n",
       "      <td>3.690261</td>\n",
       "      <td>3</td>\n",
       "    </tr>\n",
       "    <tr>\n",
       "      <th>86691</th>\n",
       "      <td>42271</td>\n",
       "      <td>Still Life with Woodpecker</td>\n",
       "      <td>3.710180</td>\n",
       "      <td>1</td>\n",
       "    </tr>\n",
       "    <tr>\n",
       "      <th>86692</th>\n",
       "      <td>42271</td>\n",
       "      <td>The Beautiful and Damned</td>\n",
       "      <td>3.693524</td>\n",
       "      <td>2</td>\n",
       "    </tr>\n",
       "    <tr>\n",
       "      <th>86693</th>\n",
       "      <td>42271</td>\n",
       "      <td></td>\n",
       "      <td>3.691491</td>\n",
       "      <td>3</td>\n",
       "    </tr>\n",
       "    <tr>\n",
       "      <th>86694</th>\n",
       "      <td>43154</td>\n",
       "      <td></td>\n",
       "      <td>3.697196</td>\n",
       "      <td>1</td>\n",
       "    </tr>\n",
       "    <tr>\n",
       "      <th>86695</th>\n",
       "      <td>43154</td>\n",
       "      <td>A People's History of the United States: 1492 ...</td>\n",
       "      <td>3.668389</td>\n",
       "      <td>2</td>\n",
       "    </tr>\n",
       "    <tr>\n",
       "      <th>86696</th>\n",
       "      <td>43154</td>\n",
       "      <td>The Beautiful and Damned</td>\n",
       "      <td>3.664744</td>\n",
       "      <td>3</td>\n",
       "    </tr>\n",
       "    <tr>\n",
       "      <th>86697</th>\n",
       "      <td>43293</td>\n",
       "      <td></td>\n",
       "      <td>3.705708</td>\n",
       "      <td>1</td>\n",
       "    </tr>\n",
       "    <tr>\n",
       "      <th>86698</th>\n",
       "      <td>43293</td>\n",
       "      <td>Deception Point</td>\n",
       "      <td>3.678487</td>\n",
       "      <td>2</td>\n",
       "    </tr>\n",
       "    <tr>\n",
       "      <th>86699</th>\n",
       "      <td>43293</td>\n",
       "      <td>The Millionaire Next Door: The Surprising Secr...</td>\n",
       "      <td>3.675880</td>\n",
       "      <td>3</td>\n",
       "    </tr>\n",
       "    <tr>\n",
       "      <th>86700</th>\n",
       "      <td>47932</td>\n",
       "      <td></td>\n",
       "      <td>3.694402</td>\n",
       "      <td>1</td>\n",
       "    </tr>\n",
       "    <tr>\n",
       "      <th>86701</th>\n",
       "      <td>47932</td>\n",
       "      <td>A People's History of the United States: 1492 ...</td>\n",
       "      <td>3.665977</td>\n",
       "      <td>2</td>\n",
       "    </tr>\n",
       "    <tr>\n",
       "      <th>86702</th>\n",
       "      <td>47932</td>\n",
       "      <td>The Adventures of Huckleberry Finn</td>\n",
       "      <td>3.661545</td>\n",
       "      <td>3</td>\n",
       "    </tr>\n",
       "    <tr>\n",
       "      <th>86703</th>\n",
       "      <td>48857</td>\n",
       "      <td>Still Life with Woodpecker</td>\n",
       "      <td>3.711838</td>\n",
       "      <td>1</td>\n",
       "    </tr>\n",
       "    <tr>\n",
       "      <th>86704</th>\n",
       "      <td>48857</td>\n",
       "      <td>The Beautiful and Damned</td>\n",
       "      <td>3.698409</td>\n",
       "      <td>2</td>\n",
       "    </tr>\n",
       "    <tr>\n",
       "      <th>86705</th>\n",
       "      <td>48857</td>\n",
       "      <td></td>\n",
       "      <td>3.693256</td>\n",
       "      <td>3</td>\n",
       "    </tr>\n",
       "    <tr>\n",
       "      <th>86706</th>\n",
       "      <td>49462</td>\n",
       "      <td>Still Life with Woodpecker</td>\n",
       "      <td>3.712729</td>\n",
       "      <td>1</td>\n",
       "    </tr>\n",
       "    <tr>\n",
       "      <th>86707</th>\n",
       "      <td>49462</td>\n",
       "      <td>The Beautiful and Damned</td>\n",
       "      <td>3.699302</td>\n",
       "      <td>2</td>\n",
       "    </tr>\n",
       "    <tr>\n",
       "      <th>86708</th>\n",
       "      <td>49462</td>\n",
       "      <td></td>\n",
       "      <td>3.691455</td>\n",
       "      <td>3</td>\n",
       "    </tr>\n",
       "    <tr>\n",
       "      <th>86709</th>\n",
       "      <td>50894</td>\n",
       "      <td></td>\n",
       "      <td>3.700879</td>\n",
       "      <td>1</td>\n",
       "    </tr>\n",
       "    <tr>\n",
       "      <th>86710</th>\n",
       "      <td>50894</td>\n",
       "      <td>A People's History of the United States: 1492 ...</td>\n",
       "      <td>3.670191</td>\n",
       "      <td>2</td>\n",
       "    </tr>\n",
       "    <tr>\n",
       "      <th>86711</th>\n",
       "      <td>50894</td>\n",
       "      <td>Girl with a Pearl Earring</td>\n",
       "      <td>3.668899</td>\n",
       "      <td>3</td>\n",
       "    </tr>\n",
       "    <tr>\n",
       "      <th>86712</th>\n",
       "      <td>51295</td>\n",
       "      <td>Still Life with Woodpecker</td>\n",
       "      <td>3.712686</td>\n",
       "      <td>1</td>\n",
       "    </tr>\n",
       "    <tr>\n",
       "      <th>86713</th>\n",
       "      <td>51295</td>\n",
       "      <td>The Beautiful and Damned</td>\n",
       "      <td>3.699434</td>\n",
       "      <td>2</td>\n",
       "    </tr>\n",
       "    <tr>\n",
       "      <th>86714</th>\n",
       "      <td>51295</td>\n",
       "      <td></td>\n",
       "      <td>3.693760</td>\n",
       "      <td>3</td>\n",
       "    </tr>\n",
       "    <tr>\n",
       "      <th>86715</th>\n",
       "      <td>51559</td>\n",
       "      <td>Still Life with Woodpecker</td>\n",
       "      <td>3.713253</td>\n",
       "      <td>1</td>\n",
       "    </tr>\n",
       "    <tr>\n",
       "      <th>86716</th>\n",
       "      <td>51559</td>\n",
       "      <td>The Beautiful and Damned</td>\n",
       "      <td>3.697093</td>\n",
       "      <td>2</td>\n",
       "    </tr>\n",
       "    <tr>\n",
       "      <th>86717</th>\n",
       "      <td>51559</td>\n",
       "      <td></td>\n",
       "      <td>3.692787</td>\n",
       "      <td>3</td>\n",
       "    </tr>\n",
       "  </tbody>\n",
       "</table>\n",
       "<p>86718 rows × 4 columns</p>\n",
       "</div>"
      ],
      "text/plain": [
       "       user_id                                     original_title     score  \\\n",
       "0          314                         Still Life with Woodpecker  3.652937   \n",
       "1          314                                    Villa Incognito  3.607736   \n",
       "2          314                  El amor en los tiempos del cólera  3.589461   \n",
       "3          439                         Still Life with Woodpecker  3.728509   \n",
       "4          439                                    Villa Incognito  3.660075   \n",
       "5          439                  El amor en los tiempos del cólera  3.630743   \n",
       "6          588                         Still Life with Woodpecker  3.704723   \n",
       "7          588                                    Villa Incognito  3.647833   \n",
       "8          588                  El amor en los tiempos del cólera  3.624804   \n",
       "9         1169                         Still Life with Woodpecker  3.740307   \n",
       "10        1169                                    Villa Incognito  3.684728   \n",
       "11        1169                  El amor en los tiempos del cólera  3.658211   \n",
       "12        1185                         Still Life with Woodpecker  3.663822   \n",
       "13        1185                                    Villa Incognito  3.609577   \n",
       "14        1185                  El amor en los tiempos del cólera  3.583685   \n",
       "15        2077                         Still Life with Woodpecker  3.711259   \n",
       "16        2077                                    Villa Incognito  3.633775   \n",
       "17        2077                  El amor en los tiempos del cólera  3.598511   \n",
       "18        2487                         Still Life with Woodpecker  3.761272   \n",
       "19        2487                                    Villa Incognito  3.686743   \n",
       "20        2487                  El amor en los tiempos del cólera  3.651996   \n",
       "21        2900                                          Amsterdam  3.641194   \n",
       "22        2900                        Hard Times: For These Times  3.635276   \n",
       "23        2900                               Tears of the Giraffe  3.635227   \n",
       "24        3662                                                     3.657283   \n",
       "25        3662                           The Beautiful and Damned  3.631971   \n",
       "26        3662                                          Amsterdam  3.626810   \n",
       "27        3922                        Hard Times: For These Times  3.651889   \n",
       "28        3922                                          Amsterdam  3.650391   \n",
       "29        3922                               Consider the Lobster  3.645164   \n",
       "...        ...                                                ...       ...   \n",
       "86688    40887                         Still Life with Woodpecker  3.709374   \n",
       "86689    40887                           The Beautiful and Damned  3.696439   \n",
       "86690    40887                                                     3.690261   \n",
       "86691    42271                         Still Life with Woodpecker  3.710180   \n",
       "86692    42271                           The Beautiful and Damned  3.693524   \n",
       "86693    42271                                                     3.691491   \n",
       "86694    43154                                                     3.697196   \n",
       "86695    43154  A People's History of the United States: 1492 ...  3.668389   \n",
       "86696    43154                           The Beautiful and Damned  3.664744   \n",
       "86697    43293                                                     3.705708   \n",
       "86698    43293                                    Deception Point  3.678487   \n",
       "86699    43293  The Millionaire Next Door: The Surprising Secr...  3.675880   \n",
       "86700    47932                                                     3.694402   \n",
       "86701    47932  A People's History of the United States: 1492 ...  3.665977   \n",
       "86702    47932                 The Adventures of Huckleberry Finn  3.661545   \n",
       "86703    48857                         Still Life with Woodpecker  3.711838   \n",
       "86704    48857                           The Beautiful and Damned  3.698409   \n",
       "86705    48857                                                     3.693256   \n",
       "86706    49462                         Still Life with Woodpecker  3.712729   \n",
       "86707    49462                           The Beautiful and Damned  3.699302   \n",
       "86708    49462                                                     3.691455   \n",
       "86709    50894                                                     3.700879   \n",
       "86710    50894  A People's History of the United States: 1492 ...  3.670191   \n",
       "86711    50894                          Girl with a Pearl Earring  3.668899   \n",
       "86712    51295                         Still Life with Woodpecker  3.712686   \n",
       "86713    51295                           The Beautiful and Damned  3.699434   \n",
       "86714    51295                                                     3.693760   \n",
       "86715    51559                         Still Life with Woodpecker  3.713253   \n",
       "86716    51559                           The Beautiful and Damned  3.697093   \n",
       "86717    51559                                                     3.692787   \n",
       "\n",
       "       rank  \n",
       "0         1  \n",
       "1         2  \n",
       "2         3  \n",
       "3         1  \n",
       "4         2  \n",
       "5         3  \n",
       "6         1  \n",
       "7         2  \n",
       "8         3  \n",
       "9         1  \n",
       "10        2  \n",
       "11        3  \n",
       "12        1  \n",
       "13        2  \n",
       "14        3  \n",
       "15        1  \n",
       "16        2  \n",
       "17        3  \n",
       "18        1  \n",
       "19        2  \n",
       "20        3  \n",
       "21        1  \n",
       "22        2  \n",
       "23        3  \n",
       "24        1  \n",
       "25        2  \n",
       "26        3  \n",
       "27        1  \n",
       "28        2  \n",
       "29        3  \n",
       "...     ...  \n",
       "86688     1  \n",
       "86689     2  \n",
       "86690     3  \n",
       "86691     1  \n",
       "86692     2  \n",
       "86693     3  \n",
       "86694     1  \n",
       "86695     2  \n",
       "86696     3  \n",
       "86697     1  \n",
       "86698     2  \n",
       "86699     3  \n",
       "86700     1  \n",
       "86701     2  \n",
       "86702     3  \n",
       "86703     1  \n",
       "86704     2  \n",
       "86705     3  \n",
       "86706     1  \n",
       "86707     2  \n",
       "86708     3  \n",
       "86709     1  \n",
       "86710     2  \n",
       "86711     3  \n",
       "86712     1  \n",
       "86713     2  \n",
       "86714     3  \n",
       "86715     1  \n",
       "86716     2  \n",
       "86717     3  \n",
       "\n",
       "[86718 rows x 4 columns]"
      ]
     },
     "execution_count": 68,
     "metadata": {},
     "output_type": "execute_result"
    }
   ],
   "source": [
    "predictions"
   ]
  },
  {
   "cell_type": "markdown",
   "metadata": {},
   "source": [
    "# Content based"
   ]
  },
  {
   "cell_type": "code",
   "execution_count": null,
   "metadata": {},
   "outputs": [],
   "source": []
  }
 ],
 "metadata": {
  "kernelspec": {
   "display_name": "Python 3",
   "language": "python",
   "name": "python3"
  },
  "language_info": {
   "codemirror_mode": {
    "name": "ipython",
    "version": 3
   },
   "file_extension": ".py",
   "mimetype": "text/x-python",
   "name": "python",
   "nbconvert_exporter": "python",
   "pygments_lexer": "ipython3",
   "version": "3.7.3"
  }
 },
 "nbformat": 4,
 "nbformat_minor": 2
}
